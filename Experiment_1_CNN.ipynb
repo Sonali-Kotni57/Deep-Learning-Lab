{
  "nbformat": 4,
  "nbformat_minor": 0,
  "metadata": {
    "colab": {
      "name": "Experiment 1- CNN ",
      "provenance": [],
      "authorship_tag": "ABX9TyO3odMaiC7GkCHELUddNFaE",
      "include_colab_link": true
    },
    "kernelspec": {
      "name": "python3",
      "display_name": "Python 3"
    },
    "language_info": {
      "name": "python"
    },
    "accelerator": "GPU"
  },
  "cells": [
    {
      "cell_type": "markdown",
      "metadata": {
        "id": "view-in-github",
        "colab_type": "text"
      },
      "source": [
        "<a href=\"https://colab.research.google.com/github/Sonali-Kotni57/Deep-Learning-Lab/blob/main/Experiment_1_CNN.ipynb\" target=\"_parent\"><img src=\"https://colab.research.google.com/assets/colab-badge.svg\" alt=\"Open In Colab\"/></a>"
      ]
    },
    {
      "cell_type": "markdown",
      "metadata": {
        "id": "7WptXVgkM9zx"
      },
      "source": [
        "**Experiment-1 CNN**"
      ]
    },
    {
      "cell_type": "code",
      "metadata": {
        "id": "LFTxSXK9K7g6"
      },
      "source": [
        "import numpy as np\n",
        "import keras\n",
        "from keras.datasets import mnist\n",
        "from keras.models import Model\n",
        "from keras.layers import Dense, Input\n",
        "from keras.layers import Conv2D, MaxPooling2D, Dropout, Flatten\n",
        "from keras import backend as k\n",
        "from keras.utils import np_utils\n",
        "import tensorflow as tf"
      ],
      "execution_count": 9,
      "outputs": []
    },
    {
      "cell_type": "code",
      "metadata": {
        "colab": {
          "base_uri": "https://localhost:8080/",
          "height": 303
        },
        "id": "V6vVQzrONPJX",
        "outputId": "d5075244-61b4-46e6-f6fe-dc250cb8154b"
      },
      "source": [
        "(trainX, trainy), (testX, testy) = mnist.load_data()\n",
        "# summarize loaded dataset\n",
        "print('Train: X=%s, y=%s' % (trainX.shape, trainy.shape))\n",
        "print('Test: X=%s, y=%s' % (testX.shape, testy.shape))\n",
        "# plot first few images\n",
        "for i in range(9):\n",
        "\t# define subplot\n",
        "\tpyplot.subplot(330 + 1 + i)\n",
        "\t# plot raw pixel data\n",
        "\tpyplot.imshow(trainX[i], cmap=pyplot.get_cmap('gray'))\n",
        "# show the figure\n",
        "pyplot.show()"
      ],
      "execution_count": 10,
      "outputs": [
        {
          "output_type": "stream",
          "text": [
            "Train: X=(60000, 28, 28), y=(60000,)\n",
            "Test: X=(10000, 28, 28), y=(10000,)\n"
          ],
          "name": "stdout"
        },
        {
          "output_type": "display_data",
          "data": {
            "image/png": "[encoded data removed]",
            "text/plain": [
              "<Figure size 432x288 with 9 Axes>"
            ]
          },
          "metadata": {
            "tags": [],
            "needs_background": "light"
          }
        }
      ]
    },
    {
      "cell_type": "code",
      "metadata": {
        "id": "X_We6p7FNTUx"
      },
      "source": [
        "trainX = trainX.reshape((trainX.shape[0],28,28,1))\n",
        "testX = testX.reshape((testX.shape[0],28,28,1))\n"
      ],
      "execution_count": 11,
      "outputs": []
    },
    {
      "cell_type": "code",
      "metadata": {
        "id": "EA0ftGGLNWL8"
      },
      "source": [
        "trainy = np_utils.to_categorical(trainy)\n",
        "testy = np_utils.to_categorical(testy)"
      ],
      "execution_count": 12,
      "outputs": []
    },
    {
      "cell_type": "code",
      "metadata": {
        "id": "1f9MkLDSOlHL"
      },
      "source": [
        "trainX_norm = trainX.astype('float32')\n",
        "testX_norm = testX.astype('float32')\n",
        "\n",
        "trainX_norm = trainX_norm/255.0 \n",
        "testX_norm = testX_norm/255.0"
      ],
      "execution_count": 13,
      "outputs": []
    },
    {
      "cell_type": "code",
      "metadata": {
        "id": "sER_5ALoOqak"
      },
      "source": [
        "from keras import layers\n",
        "model = keras.Sequential()\n",
        "model.add(layers.Conv2D(32,(3,3), activation='relu', input_shape=(28,28,1)))\n",
        "#model.add(layers.Conv2D(64,(3,3), activation ='relu'))\n",
        "model.add(layers.MaxPooling2D((2,2)))\n",
        "#model.add(layers.Dropout(0.25))\n",
        "model.add(layers.Flatten())\n",
        "model.add(layers.Dense(128, activation='relu'))\n",
        "#model.add(layers.Dropout(0.5))\n",
        "model.add(layers.Dense(10, activation='softmax'))\n",
        "\n",
        "model.compile(loss = keras.losses.categorical_crossentropy, optimizer=keras.optimizers.Adam(),metrics=['accuracy'])"
      ],
      "execution_count": 14,
      "outputs": []
    },
    {
      "cell_type": "code",
      "metadata": {
        "colab": {
          "base_uri": "https://localhost:8080/"
        },
        "id": "oXYF9UN3OtQK",
        "outputId": "83a244f2-6712-4647-e30b-4e57ea60bd02"
      },
      "source": [
        "model.summary()"
      ],
      "execution_count": 15,
      "outputs": [
        {
          "output_type": "stream",
          "text": [
            "Model: \"sequential\"\n",
            "_________________________________________________________________\n",
            "Layer (type)                 Output Shape              Param #   \n",
            "=================================================================\n",
            "conv2d (Conv2D)              (None, 26, 26, 32)        320       \n",
            "_________________________________________________________________\n",
            "max_pooling2d (MaxPooling2D) (None, 13, 13, 32)        0         \n",
            "_________________________________________________________________\n",
            "flatten (Flatten)            (None, 5408)              0         \n",
            "_________________________________________________________________\n",
            "dense (Dense)                (None, 128)               692352    \n",
            "_________________________________________________________________\n",
            "dense_1 (Dense)              (None, 10)                1290      \n",
            "=================================================================\n",
            "Total params: 693,962\n",
            "Trainable params: 693,962\n",
            "Non-trainable params: 0\n",
            "_________________________________________________________________\n"
          ],
          "name": "stdout"
        }
      ]
    },
    {
      "cell_type": "code",
      "metadata": {
        "colab": {
          "base_uri": "https://localhost:8080/"
        },
        "id": "eCzabYzwOx0B",
        "outputId": "bc1db49e-691f-4a6f-9d8d-808cbbdd1dfc"
      },
      "source": [
        "model.fit(trainX_norm,trainy, batch_size=128, epochs=10, validation_data=(testX_norm,testy))"
      ],
      "execution_count": 16,
      "outputs": [
        {
          "output_type": "stream",
          "text": [
            "Epoch 1/10\n",
            "469/469 [==============================] - 43s 62ms/step - loss: 0.4480 - accuracy: 0.8707 - val_loss: 0.0891 - val_accuracy: 0.9731\n",
            "Epoch 2/10\n",
            "469/469 [==============================] - 28s 60ms/step - loss: 0.0758 - accuracy: 0.9779 - val_loss: 0.0591 - val_accuracy: 0.9810\n",
            "Epoch 3/10\n",
            "469/469 [==============================] - 28s 61ms/step - loss: 0.0467 - accuracy: 0.9864 - val_loss: 0.0635 - val_accuracy: 0.9784\n",
            "Epoch 4/10\n",
            "469/469 [==============================] - 28s 61ms/step - loss: 0.0351 - accuracy: 0.9898 - val_loss: 0.0408 - val_accuracy: 0.9857\n",
            "Epoch 5/10\n",
            "469/469 [==============================] - 29s 61ms/step - loss: 0.0244 - accuracy: 0.9925 - val_loss: 0.0437 - val_accuracy: 0.9855\n",
            "Epoch 6/10\n",
            "469/469 [==============================] - 29s 61ms/step - loss: 0.0193 - accuracy: 0.9941 - val_loss: 0.0446 - val_accuracy: 0.9855\n",
            "Epoch 7/10\n",
            "469/469 [==============================] - 29s 61ms/step - loss: 0.0137 - accuracy: 0.9963 - val_loss: 0.0419 - val_accuracy: 0.9861\n",
            "Epoch 8/10\n",
            "469/469 [==============================] - 28s 60ms/step - loss: 0.0116 - accuracy: 0.9964 - val_loss: 0.0446 - val_accuracy: 0.9857\n",
            "Epoch 9/10\n",
            "469/469 [==============================] - 28s 61ms/step - loss: 0.0068 - accuracy: 0.9984 - val_loss: 0.0509 - val_accuracy: 0.9856\n",
            "Epoch 10/10\n",
            "469/469 [==============================] - 28s 60ms/step - loss: 0.0063 - accuracy: 0.9986 - val_loss: 0.0450 - val_accuracy: 0.9867\n"
          ],
          "name": "stdout"
        },
        {
          "output_type": "execute_result",
          "data": {
            "text/plain": [
              "<keras.callbacks.History at 0x7f5d3b969dd0>"
            ]
          },
          "metadata": {
            "tags": []
          },
          "execution_count": 16
        }
      ]
    },
    {
      "cell_type": "code",
      "metadata": {
        "colab": {
          "base_uri": "https://localhost:8080/"
        },
        "id": "7WLJX2s7Ps5F",
        "outputId": "d2f0ad19-66b2-44c3-eb55-cfeac5753c45"
      },
      "source": [
        "score = model.evaluate(testX_norm,testy, verbose=0)\n",
        "print('Test loss:', score[0]) \n",
        "print('Test accuracy:', score[1])"
      ],
      "execution_count": 17,
      "outputs": [
        {
          "output_type": "stream",
          "text": [
            "Test loss: 0.04502712935209274\n",
            "Test accuracy: 0.9866999983787537\n"
          ],
          "name": "stdout"
        }
      ]
    },
    {
      "cell_type": "code",
      "metadata": {
        "id": "b7ISetRjP33r"
      },
      "source": [
        "prediction=model.predict(testX_norm)"
      ],
      "execution_count": 18,
      "outputs": []
    },
    {
      "cell_type": "code",
      "metadata": {
        "colab": {
          "base_uri": "https://localhost:8080/"
        },
        "id": "S7_eOIQjP651",
        "outputId": "84edd908-c751-41c5-eaac-2815aa6e280c"
      },
      "source": [
        "print(np.argmax(prediction[1]))"
      ],
      "execution_count": 19,
      "outputs": [
        {
          "output_type": "stream",
          "text": [
            "2\n"
          ],
          "name": "stdout"
        }
      ]
    },
    {
      "cell_type": "code",
      "metadata": {
        "colab": {
          "base_uri": "https://localhost:8080/",
          "height": 264
        },
        "id": "Qz8zga9dP9TP",
        "outputId": "dc5c5822-4d7d-4c59-e7ef-abc570ffd088"
      },
      "source": [
        "pyplot.imshow(  tf.squeeze(testX[1])  )\n",
        "\n",
        "pyplot.show()"
      ],
      "execution_count": 21,
      "outputs": [
        {
          "output_type": "display_data",
          "data": {
            "image/png": "[encoded data removed]",
            "text/plain": [
              "<Figure size 432x288 with 1 Axes>"
            ]
          },
          "metadata": {
            "tags": [],
            "needs_background": "light"
          }
        }
      ]
    }
  ]
}