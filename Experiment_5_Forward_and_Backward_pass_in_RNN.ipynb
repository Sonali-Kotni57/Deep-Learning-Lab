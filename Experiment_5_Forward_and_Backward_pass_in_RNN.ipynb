{
  "nbformat": 4,
  "nbformat_minor": 0,
  "metadata": {
    "colab": {
      "name": "Experiment-5 Forward and Backward pass in RNN",
      "provenance": [],
      "collapsed_sections": [],
      "authorship_tag": "ABX9TyOI0BV20uexSH/3r1m03JK6",
      "include_colab_link": true
    },
    "kernelspec": {
      "name": "python3",
      "display_name": "Python 3"
    },
    "language_info": {
      "name": "python"
    },
    "accelerator": "GPU"
  },
  "cells": [
    {
      "cell_type": "markdown",
      "metadata": {
        "id": "view-in-github",
        "colab_type": "text"
      },
      "source": [
        "<a href=\"https://colab.research.google.com/github/Sonali-Kotni57/Deep-Learning-Lab/blob/main/Experiment_5_Forward_and_Backward_pass_in_RNN.ipynb\" target=\"_parent\"><img src=\"https://colab.research.google.com/assets/colab-badge.svg\" alt=\"Open In Colab\"/></a>"
      ]
    },
    {
      "cell_type": "markdown",
      "metadata": {
        "id": "iArknPDo1YGU"
      },
      "source": [
        "**Experiment-5 Forward and Backward pass in RNN**"
      ]
    },
    {
      "cell_type": "code",
      "metadata": {
        "id": "-Qo-8Fx8IeYF"
      },
      "source": [
        "import numpy as np\n",
        "from tensorflow import keras\n",
        "import tensorflow as tf"
      ],
      "execution_count": 8,
      "outputs": []
    },
    {
      "cell_type": "code",
      "metadata": {
        "id": "b-TNWSAvIpgD"
      },
      "source": [
        "max_features = 20000\n",
        "maxlen = 200"
      ],
      "execution_count": 9,
      "outputs": []
    },
    {
      "cell_type": "code",
      "metadata": {
        "colab": {
          "base_uri": "https://localhost:8080/"
        },
        "id": "q_9K6ZosIreg",
        "outputId": "23191ed2-1125-488d-a7fa-189c9952e10d"
      },
      "source": [
        "seq_model = keras.Sequential()\n",
        "seq_model.add(keras.layers.InputLayer(input_shape=(None,), dtype=\"int32\"))\n",
        "seq_model.add( keras.layers.Embedding(max_features, 128))\n",
        "seq_model.add(keras.layers.Bidirectional(keras.layers.LSTM(64, return_sequences=True)))\n",
        "seq_model.add(keras.layers.Bidirectional(keras.layers.LSTM(64)))\n",
        "seq_model.add(keras.layers.Dense(1, activation='sigmoid'))\n",
        "seq_model.summary()"
      ],
      "execution_count": 10,
      "outputs": [
        {
          "output_type": "stream",
          "text": [
            "Model: \"sequential_1\"\n",
            "_________________________________________________________________\n",
            "Layer (type)                 Output Shape              Param #   \n",
            "=================================================================\n",
            "embedding_1 (Embedding)      (None, None, 128)         2560000   \n",
            "_________________________________________________________________\n",
            "bidirectional_2 (Bidirection (None, None, 128)         98816     \n",
            "_________________________________________________________________\n",
            "bidirectional_3 (Bidirection (None, 128)               98816     \n",
            "_________________________________________________________________\n",
            "dense_1 (Dense)              (None, 1)                 129       \n",
            "=================================================================\n",
            "Total params: 2,757,761\n",
            "Trainable params: 2,757,761\n",
            "Non-trainable params: 0\n",
            "_________________________________________________________________\n"
          ],
          "name": "stdout"
        }
      ]
    },
    {
      "cell_type": "code",
      "metadata": {
        "colab": {
          "base_uri": "https://localhost:8080/"
        },
        "id": "Iialo-5N1s01",
        "outputId": "e22b312d-4a2e-4fa4-8ccf-3355f44d5341"
      },
      "source": [
        "(x_train, y_train),(x_val, y_val) = keras.datasets.imdb.load_data(num_words=max_features)"
      ],
      "execution_count": 11,
      "outputs": [
        {
          "output_type": "stream",
          "text": [
            "<string>:6: VisibleDeprecationWarning: Creating an ndarray from ragged nested sequences (which is a list-or-tuple of lists-or-tuples-or ndarrays with different lengths or shapes) is deprecated. If you meant to do this, you must specify 'dtype=object' when creating the ndarray\n",
            "/usr/local/lib/python3.7/dist-packages/tensorflow/python/keras/datasets/imdb.py:155: VisibleDeprecationWarning: Creating an ndarray from ragged nested sequences (which is a list-or-tuple of lists-or-tuples-or ndarrays with different lengths or shapes) is deprecated. If you meant to do this, you must specify 'dtype=object' when creating the ndarray\n",
            "  x_train, y_train = np.array(xs[:idx]), np.array(labels[:idx])\n",
            "/usr/local/lib/python3.7/dist-packages/tensorflow/python/keras/datasets/imdb.py:156: VisibleDeprecationWarning: Creating an ndarray from ragged nested sequences (which is a list-or-tuple of lists-or-tuples-or ndarrays with different lengths or shapes) is deprecated. If you meant to do this, you must specify 'dtype=object' when creating the ndarray\n",
            "  x_test, y_test = np.array(xs[idx:]), np.array(labels[idx:])\n"
          ],
          "name": "stderr"
        }
      ]
    },
    {
      "cell_type": "code",
      "metadata": {
        "colab": {
          "base_uri": "https://localhost:8080/"
        },
        "id": "lCui-B_T1wrg",
        "outputId": "ea55a0ef-8eb8-4713-b40d-ef37f1cc2088"
      },
      "source": [
        "print(len(x_train), \"Training sequences\")\n",
        "print(len(x_val), \"Validation sequences\")"
      ],
      "execution_count": 12,
      "outputs": [
        {
          "output_type": "stream",
          "text": [
            "25000 Training sequences\n",
            "25000 Validation sequences\n"
          ],
          "name": "stdout"
        }
      ]
    },
    {
      "cell_type": "code",
      "metadata": {
        "id": "rPaXlVgI1zmM"
      },
      "source": [
        "x_train = keras.preprocessing.sequence.pad_sequences(x_train, maxlen=maxlen)\n",
        "x_val = keras.preprocessing.sequence.pad_sequences(x_val, maxlen=maxlen)"
      ],
      "execution_count": 13,
      "outputs": []
    },
    {
      "cell_type": "code",
      "metadata": {
        "colab": {
          "base_uri": "https://localhost:8080/"
        },
        "id": "Fr6E7d9qI1vP",
        "outputId": "d7a02b73-04c7-4053-c863-362d43b0dfd0"
      },
      "source": [
        "seq_model.compile(optimizer='adam', loss='binary_crossentropy', metrics=['accuracy'])\n",
        "\n",
        "seq_model.fit(x_train, y_train, batch_size=32, epochs=2, validation_data=(x_val, y_val))"
      ],
      "execution_count": 14,
      "outputs": [
        {
          "output_type": "stream",
          "text": [
            "Epoch 1/2\n",
            "782/782 [==============================] - 221s 275ms/step - loss: 0.4130 - accuracy: 0.8149 - val_loss: 0.3326 - val_accuracy: 0.8622\n",
            "Epoch 2/2\n",
            "782/782 [==============================] - 213s 272ms/step - loss: 0.2146 - accuracy: 0.9178 - val_loss: 0.3670 - val_accuracy: 0.8609\n"
          ],
          "name": "stdout"
        },
        {
          "output_type": "execute_result",
          "data": {
            "text/plain": [
              "<tensorflow.python.keras.callbacks.History at 0x7f3bc590a990>"
            ]
          },
          "metadata": {
            "tags": []
          },
          "execution_count": 14
        }
      ]
    },
    {
      "cell_type": "code",
      "metadata": {
        "id": "hzgQW0jvI3nY"
      },
      "source": [
        "y_pred = seq_model.predict(x_val)"
      ],
      "execution_count": 15,
      "outputs": []
    },
    {
      "cell_type": "code",
      "metadata": {
        "colab": {
          "base_uri": "https://localhost:8080/"
        },
        "id": "nx9RsFq8I5Nh",
        "outputId": "014bdbdd-0ae3-4ba7-aef2-1c1caf29eb72"
      },
      "source": [
        "tf.math.confusion_matrix(y_val, y_pred )\n"
      ],
      "execution_count": 16,
      "outputs": [
        {
          "output_type": "execute_result",
          "data": {
            "text/plain": [
              "<tf.Tensor: shape=(2, 2), dtype=int32, numpy=\n",
              "array([[12500,     0],\n",
              "       [12500,     0]], dtype=int32)>"
            ]
          },
          "metadata": {
            "tags": []
          },
          "execution_count": 16
        }
      ]
    }
  ]
}