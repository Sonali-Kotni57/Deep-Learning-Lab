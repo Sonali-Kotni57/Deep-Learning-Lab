{
  "nbformat": 4,
  "nbformat_minor": 0,
  "metadata": {
    "colab": {
      "name": "Experiment-6 LSTM Model",
      "provenance": [],
      "authorship_tag": "ABX9TyNtkdBSK/cPmZr4Ea5LeTNZ",
      "include_colab_link": true
    },
    "kernelspec": {
      "name": "python3",
      "display_name": "Python 3"
    },
    "language_info": {
      "name": "python"
    }
  },
  "cells": [
    {
      "cell_type": "markdown",
      "metadata": {
        "id": "view-in-github",
        "colab_type": "text"
      },
      "source": [
        "<a href=\"https://colab.research.google.com/github/Sonali-Kotni57/Deep-Learning-Lab/blob/main/Experiment_6_LSTM_Model.ipynb\" target=\"_parent\"><img src=\"https://colab.research.google.com/assets/colab-badge.svg\" alt=\"Open In Colab\"/></a>"
      ]
    },
    {
      "cell_type": "markdown",
      "metadata": {
        "id": "3BfbHVuj8Oqu"
      },
      "source": [
        "**Experiment-6 LSTM Model**"
      ]
    },
    {
      "cell_type": "markdown",
      "metadata": {
        "id": "Jd3VA7YE8SZ3"
      },
      "source": [
        "**Simple LSTM for Sentiment Analysis (on IMDB reviews)**"
      ]
    },
    {
      "cell_type": "code",
      "metadata": {
        "id": "YcmSv06T7BTd"
      },
      "source": [
        "import tensorflow as tf\n",
        "import tensorflow_datasets as tfds\n",
        "import numpy as np"
      ],
      "execution_count": 1,
      "outputs": []
    },
    {
      "cell_type": "code",
      "metadata": {
        "colab": {
          "base_uri": "https://localhost:8080/"
        },
        "id": "kB7v3wMMmSVe",
        "outputId": "2d4b2545-a4f7-4831-e3ba-80939b7fa427"
      },
      "source": [
        "dataset, info = tfds.load(\"imdb_reviews\", with_info=True, as_supervised=True)\n",
        "\n",
        "train_dataset, test_dataset = dataset['train'], dataset['test']\n",
        "\n",
        "train_dataset.element_spec"
      ],
      "execution_count": 3,
      "outputs": [
        {
          "output_type": "execute_result",
          "data": {
            "text/plain": [
              "(TensorSpec(shape=(), dtype=tf.string, name=None),\n",
              " TensorSpec(shape=(), dtype=tf.int64, name=None))"
            ]
          },
          "metadata": {
            "tags": []
          },
          "execution_count": 3
        }
      ]
    },
    {
      "cell_type": "code",
      "metadata": {
        "colab": {
          "base_uri": "https://localhost:8080/"
        },
        "id": "ght_wJRE8wx4",
        "outputId": "dcd9196d-c551-456f-edc5-9ff1267fe7f6"
      },
      "source": [
        "for example, label in train_dataset.take(1):\n",
        "  print(\"text: \", example.numpy())\n",
        "  print(\"label: \", label.numpy())"
      ],
      "execution_count": 4,
      "outputs": [
        {
          "output_type": "stream",
          "text": [
            "text:  b\"This was an absolutely terrible movie. Don't be lured in by Christopher Walken or Michael Ironside. Both are great actors, but this must simply be their worst role in history. Even their great acting could not redeem this movie's ridiculous storyline. This movie is an early nineties US propaganda piece. The most pathetic scenes were those when the Columbian rebels were making their cases for revolutions. Maria Conchita Alonso appeared phony, and her pseudo-love affair with Walken was nothing but a pathetic emotional plug in a movie that was devoid of any real meaning. I am disappointed that there are movies like this, ruining actor's like Christopher Walken's good name. I could barely sit through it.\"\n",
            "label:  0\n"
          ],
          "name": "stdout"
        }
      ]
    },
    {
      "cell_type": "code",
      "metadata": {
        "id": "fWypHyvr9Gwb"
      },
      "source": [
        "BUFFER_SIZE = 10000\n",
        "BATCH_SIZE = 64"
      ],
      "execution_count": 5,
      "outputs": []
    },
    {
      "cell_type": "code",
      "metadata": {
        "id": "yHnvdRhn9UWO"
      },
      "source": [
        "train_dataset = train_dataset.shuffle(BUFFER_SIZE).batch(BATCH_SIZE).prefetch(tf.data.AUTOTUNE)\n",
        "test_dataset = test_dataset.batch(BATCH_SIZE).prefetch(tf.data.AUTOTUNE)"
      ],
      "execution_count": 6,
      "outputs": []
    },
    {
      "cell_type": "code",
      "metadata": {
        "colab": {
          "base_uri": "https://localhost:8080/"
        },
        "id": "Hl3CD5O59Zxr",
        "outputId": "bbe6f294-fe5a-49d8-afbf-a735c6a5bbff"
      },
      "source": [
        "for example, label in train_dataset.take(1):\n",
        "  print('texts: ', example.numpy()[:3])\n",
        "  print()\n",
        "  print('labels: ', label.numpy()[:3])"
      ],
      "execution_count": 7,
      "outputs": [
        {
          "output_type": "stream",
          "text": [
            "texts:  [b'Mann photographs the Alberta Rocky Mountains in a superb fashion, and Jimmy Stewart and Walter Brennan give enjoyable performances as they always seem to do. <br /><br />But come on Hollywood - a Mountie telling the people of Dawson City, Yukon to elect themselves a marshal (yes a marshal!) and to enforce the law themselves, then gunfighters battling it out on the streets for control of the town? <br /><br />Nothing even remotely resembling that happened on the Canadian side of the border during the Klondike gold rush. Mr. Mann and company appear to have mistaken Dawson City for Deadwood, the Canadian North for the American Wild West.<br /><br />Canadian viewers be prepared for a Reefer Madness type of enjoyable howl with this ludicrous plot, or, to shake your head in disgust.'\n",
            " b'\"Intensive Care\" by Dorna von Rouveroy is easily one of the worst horror movies ever made.This extremely cheap Dutch slasher flick offers some gore and plenty of absurd situations.A horror veteran George Kennedy is completely wasted as as Professor Bruckner.The acting is abysmal,the action is slow and the climax is laughable.A famous surgeon has a car accident.He lies in a coma seven years and then he wakes up and goes on a bloody rampage.\"Intensive Care\" is clearly influenced by American slasher films including \"Halloween\" and \"Friday the 13th\" series.The killings are hilarious and the dialogs are painfully stupid.Still if you are in the right mood you can give this piece of trash a look.You\\'ll laugh until it hurts with this one-you can believe me!'\n",
            " b\"Any movie in which Brooke Shields out-acts a Fonda is going to be both an anomaly and a horror. Shields actually is only bad because she's youthful, inexperienced, and clearly not well directed by her co-star. Peter Fonda is bad because, well, because he's bad. I liked him in Ulee's Gold, years later, but Lord above, he's awful here. Not that anyone else is good. There's not a single performance (outside Henry Fonda's delightful cameo) that is even passable. I've never seen a movie with this many bad performances. In the case of Luke Askew, the chief villain, it's clear this is because of poor dialogue and direction, as he's done good work in the past. But his partner, played by Ted Markland, is an embarrassing ham. The writing is just bloody awful, and the actors cannot be faulted for the terrible things they have to say. But they say them so badly! The editing and direction are worse than pedestrian. Shots are held way too long for no dramatic reason, or cut off before the impact of the scene can be realized. This picture was far worse than I'd imagined and would have been utterly forgotten (and probably never even made) without the participation of a couple of famous names. One bright spot: the cinematography in the Grand Canyon is exquisite, capturing the beauty of that area in a way even big-screen Imax productions have not quite done so well. And finally: either this is a bad version of Paper Moon, with a lovable pair of father-daughter types, or it's a bad version of Pretty Baby, with a considerably more icky romantic relationship between a forty-something and a 13-year-old. It suggests more of the latter than the former, and thus is pretty disturbing.\"]\n",
            "\n",
            "labels:  [0 0 0]\n"
          ],
          "name": "stdout"
        }
      ]
    },
    {
      "cell_type": "code",
      "metadata": {
        "id": "UifRAPjp9dBY"
      },
      "source": [
        "VOCAB_SIZE = 1000\n",
        "encoder = tf.keras.layers.experimental.preprocessing.TextVectorization(max_tokens=VOCAB_SIZE)\n",
        "encoder.adapt(train_dataset.map(lambda text, label:text))"
      ],
      "execution_count": 8,
      "outputs": []
    },
    {
      "cell_type": "code",
      "metadata": {
        "colab": {
          "base_uri": "https://localhost:8080/"
        },
        "id": "LE22XP_v9iHl",
        "outputId": "b5ec0b46-b9eb-4382-cfaf-4fca97a1c708"
      },
      "source": [
        "vocab = np.array(encoder.get_vocabulary())\n",
        "vocab[:20]"
      ],
      "execution_count": 9,
      "outputs": [
        {
          "output_type": "execute_result",
          "data": {
            "text/plain": [
              "array(['', '[UNK]', 'the', 'and', 'a', 'of', 'to', 'is', 'in', 'it', 'i',\n",
              "       'this', 'that', 'br', 'was', 'as', 'for', 'with', 'movie', 'but'],\n",
              "      dtype='<U14')"
            ]
          },
          "metadata": {
            "tags": []
          },
          "execution_count": 9
        }
      ]
    },
    {
      "cell_type": "code",
      "metadata": {
        "colab": {
          "base_uri": "https://localhost:8080/"
        },
        "id": "FPHJYrwQ9lOz",
        "outputId": "be169d40-840b-4a37-dcc3-cb4b4135da51"
      },
      "source": [
        "encoded_example = encoder(example)[:3].numpy()\n",
        "encoded_example"
      ],
      "execution_count": 10,
      "outputs": [
        {
          "output_type": "execute_result",
          "data": {
            "text/plain": [
              "array([[  1,   1,   2, ...,   0,   0,   0],\n",
              "       [  1, 451,  33, ...,   0,   0,   0],\n",
              "       [ 99,  18,   8, ...,   0,   0,   0]])"
            ]
          },
          "metadata": {
            "tags": []
          },
          "execution_count": 10
        }
      ]
    },
    {
      "cell_type": "code",
      "metadata": {
        "colab": {
          "base_uri": "https://localhost:8080/"
        },
        "id": "1khkByXY9nyP",
        "outputId": "f0d74024-4168-4f75-f112-ccfd9a2df9ad"
      },
      "source": [
        "for n in range(3):\n",
        "  print(\"original: \", example[n].numpy())\n",
        "  print(\"round-trip: \", \" \".join(vocab[encoded_example[n]]))"
      ],
      "execution_count": 11,
      "outputs": [
        {
          "output_type": "stream",
          "text": [
            "original:  b'Mann photographs the Alberta Rocky Mountains in a superb fashion, and Jimmy Stewart and Walter Brennan give enjoyable performances as they always seem to do. <br /><br />But come on Hollywood - a Mountie telling the people of Dawson City, Yukon to elect themselves a marshal (yes a marshal!) and to enforce the law themselves, then gunfighters battling it out on the streets for control of the town? <br /><br />Nothing even remotely resembling that happened on the Canadian side of the border during the Klondike gold rush. Mr. Mann and company appear to have mistaken Dawson City for Deadwood, the Canadian North for the American Wild West.<br /><br />Canadian viewers be prepared for a Reefer Madness type of enjoyable howl with this ludicrous plot, or, to shake your head in disgust.'\n",
            "round-trip:  [UNK] [UNK] the [UNK] [UNK] [UNK] in a superb [UNK] and [UNK] [UNK] and [UNK] [UNK] give enjoyable performances as they always seem to do br br but come on hollywood a [UNK] [UNK] the people of [UNK] city [UNK] to [UNK] themselves a [UNK] yes a [UNK] and to [UNK] the [UNK] themselves then [UNK] [UNK] it out on the [UNK] for [UNK] of the town br br nothing even [UNK] [UNK] that happened on the [UNK] side of the [UNK] during the [UNK] [UNK] [UNK] mr [UNK] and [UNK] appear to have [UNK] [UNK] city for [UNK] the [UNK] [UNK] for the american [UNK] [UNK] br [UNK] viewers be [UNK] for a [UNK] [UNK] type of enjoyable [UNK] with this [UNK] plot or to [UNK] your head in [UNK]                                                                                                                                                                                                                                                                                                                                                                                                                                                                                                                                                                                                                                                                                                                                                                                                                                                            \n",
            "original:  b'\"Intensive Care\" by Dorna von Rouveroy is easily one of the worst horror movies ever made.This extremely cheap Dutch slasher flick offers some gore and plenty of absurd situations.A horror veteran George Kennedy is completely wasted as as Professor Bruckner.The acting is abysmal,the action is slow and the climax is laughable.A famous surgeon has a car accident.He lies in a coma seven years and then he wakes up and goes on a bloody rampage.\"Intensive Care\" is clearly influenced by American slasher films including \"Halloween\" and \"Friday the 13th\" series.The killings are hilarious and the dialogs are painfully stupid.Still if you are in the right mood you can give this piece of trash a look.You\\'ll laugh until it hurts with this one-you can believe me!'\n",
            "round-trip:  [UNK] care by [UNK] [UNK] [UNK] is easily one of the worst horror movies ever [UNK] extremely cheap [UNK] [UNK] flick [UNK] some gore and plenty of [UNK] [UNK] horror [UNK] george [UNK] is completely [UNK] as as [UNK] [UNK] acting is [UNK] action is slow and the [UNK] is [UNK] famous [UNK] has a car [UNK] [UNK] in a [UNK] [UNK] years and then he [UNK] up and goes on a [UNK] [UNK] care is clearly [UNK] by american [UNK] films including [UNK] and [UNK] the [UNK] [UNK] [UNK] are hilarious and the [UNK] are [UNK] [UNK] if you are in the right [UNK] you can give this piece of [UNK] a [UNK] laugh until it [UNK] with this [UNK] can believe me                                                                                                                                                                                                                                                                                                                                                                                                                                                                                                                                                                                                                                                                                                                                                                                                                                                                   \n",
            "original:  b\"Any movie in which Brooke Shields out-acts a Fonda is going to be both an anomaly and a horror. Shields actually is only bad because she's youthful, inexperienced, and clearly not well directed by her co-star. Peter Fonda is bad because, well, because he's bad. I liked him in Ulee's Gold, years later, but Lord above, he's awful here. Not that anyone else is good. There's not a single performance (outside Henry Fonda's delightful cameo) that is even passable. I've never seen a movie with this many bad performances. In the case of Luke Askew, the chief villain, it's clear this is because of poor dialogue and direction, as he's done good work in the past. But his partner, played by Ted Markland, is an embarrassing ham. The writing is just bloody awful, and the actors cannot be faulted for the terrible things they have to say. But they say them so badly! The editing and direction are worse than pedestrian. Shots are held way too long for no dramatic reason, or cut off before the impact of the scene can be realized. This picture was far worse than I'd imagined and would have been utterly forgotten (and probably never even made) without the participation of a couple of famous names. One bright spot: the cinematography in the Grand Canyon is exquisite, capturing the beauty of that area in a way even big-screen Imax productions have not quite done so well. And finally: either this is a bad version of Paper Moon, with a lovable pair of father-daughter types, or it's a bad version of Pretty Baby, with a considerably more icky romantic relationship between a forty-something and a 13-year-old. It suggests more of the latter than the former, and thus is pretty disturbing.\"\n",
            "round-trip:  any movie in which [UNK] [UNK] [UNK] a [UNK] is going to be both an [UNK] and a horror [UNK] actually is only bad because shes [UNK] [UNK] and clearly not well directed by her [UNK] peter [UNK] is bad because well because hes bad i liked him in [UNK] [UNK] years later but [UNK] above hes awful here not that anyone else is good theres not a single performance outside [UNK] [UNK] [UNK] [UNK] that is even [UNK] ive never seen a movie with this many bad performances in the case of [UNK] [UNK] the [UNK] [UNK] its clear this is because of poor dialogue and direction as hes done good work in the past but his [UNK] played by [UNK] [UNK] is an [UNK] [UNK] the writing is just [UNK] awful and the actors cannot be [UNK] for the terrible things they have to say but they say them so badly the editing and direction are worse than [UNK] shots are [UNK] way too long for no dramatic reason or cut off before the [UNK] of the scene can be [UNK] this picture was far worse than id [UNK] and would have been [UNK] [UNK] and probably never even made without the [UNK] of a couple of famous [UNK] one [UNK] [UNK] the cinematography in the [UNK] [UNK] is [UNK] [UNK] the beauty of that [UNK] in a way even [UNK] [UNK] [UNK] have not quite done so well and finally either this is a bad version of [UNK] [UNK] with a [UNK] [UNK] of [UNK] [UNK] or its a bad version of pretty baby with a [UNK] more [UNK] romantic relationship between a [UNK] and a [UNK] it [UNK] more of the [UNK] than the [UNK] and [UNK] is pretty [UNK]                                                                                                                                                                                                                                                                                                                                                                                                                                                                                                                                                                                                                                                                                         \n"
          ],
          "name": "stdout"
        }
      ]
    },
    {
      "cell_type": "code",
      "metadata": {
        "id": "ma8sm-xy9q6-"
      },
      "source": [
        "model = tf.keras.Sequential([\n",
        "    encoder,\n",
        "    tf.keras.layers.Embedding(\n",
        "        input_dim=len(encoder.get_vocabulary()),\n",
        "        output_dim=64,\n",
        "        # Use masking to handle the variable sequence lengths\n",
        "        mask_zero=True),\n",
        "    tf.keras.layers.LSTM(64),\n",
        "    tf.keras.layers.Dense(64, activation='relu'),\n",
        "    tf.keras.layers.Dense(1)\n",
        "])\n",
        "model.compile(loss=tf.keras.losses.BinaryCrossentropy(from_logits=True),\n",
        "              optimizer=tf.keras.optimizers.Adam(1e-4),\n",
        "              metrics=['accuracy'])"
      ],
      "execution_count": 12,
      "outputs": []
    },
    {
      "cell_type": "code",
      "metadata": {
        "colab": {
          "base_uri": "https://localhost:8080/"
        },
        "id": "pop_nRYe9uZz",
        "outputId": "b982eb7d-aade-453d-fc67-3ec9aef18df6"
      },
      "source": [
        "history =model.fit(train_dataset, epochs=5,\n",
        "                    validation_data=test_dataset,\n",
        "                    validation_steps=30)"
      ],
      "execution_count": 13,
      "outputs": [
        {
          "output_type": "stream",
          "text": [
            "Epoch 1/5\n",
            "391/391 [==============================] - 380s 954ms/step - loss: 0.6554 - accuracy: 0.5443 - val_loss: 0.5123 - val_accuracy: 0.7375\n",
            "Epoch 2/5\n",
            "391/391 [==============================] - 377s 963ms/step - loss: 0.4299 - accuracy: 0.8057 - val_loss: 0.3815 - val_accuracy: 0.8443\n",
            "Epoch 3/5\n",
            "391/391 [==============================] - 380s 971ms/step - loss: 0.3485 - accuracy: 0.8502 - val_loss: 0.3440 - val_accuracy: 0.8495\n",
            "Epoch 4/5\n",
            "391/391 [==============================] - 378s 965ms/step - loss: 0.3321 - accuracy: 0.8586 - val_loss: 0.3516 - val_accuracy: 0.8495\n",
            "Epoch 5/5\n",
            "391/391 [==============================] - 376s 959ms/step - loss: 0.3184 - accuracy: 0.8664 - val_loss: 0.3290 - val_accuracy: 0.8542\n"
          ],
          "name": "stdout"
        }
      ]
    },
    {
      "cell_type": "code",
      "metadata": {
        "colab": {
          "base_uri": "https://localhost:8080/"
        },
        "id": "9FBXuG3kH212",
        "outputId": "94032ccb-9fb2-46aa-fc4c-7dd7705e2617"
      },
      "source": [
        "model.summary()"
      ],
      "execution_count": 14,
      "outputs": [
        {
          "output_type": "stream",
          "text": [
            "Model: \"sequential\"\n",
            "_________________________________________________________________\n",
            "Layer (type)                 Output Shape              Param #   \n",
            "=================================================================\n",
            "text_vectorization (TextVect (None, None)              0         \n",
            "_________________________________________________________________\n",
            "embedding (Embedding)        (None, None, 64)          64000     \n",
            "_________________________________________________________________\n",
            "lstm (LSTM)                  (None, 64)                33024     \n",
            "_________________________________________________________________\n",
            "dense (Dense)                (None, 64)                4160      \n",
            "_________________________________________________________________\n",
            "dense_1 (Dense)              (None, 1)                 65        \n",
            "=================================================================\n",
            "Total params: 101,249\n",
            "Trainable params: 101,249\n",
            "Non-trainable params: 0\n",
            "_________________________________________________________________\n"
          ],
          "name": "stdout"
        }
      ]
    },
    {
      "cell_type": "code",
      "metadata": {
        "colab": {
          "base_uri": "https://localhost:8080/"
        },
        "id": "xsL19dP4H6sO",
        "outputId": "25bb2f1c-8cdf-48c9-ae36-ca3a4aa9b0d8"
      },
      "source": [
        "test_loss, test_acc = model.evaluate(test_dataset)\n",
        "\n",
        "print('Test Loss:', test_loss)\n",
        "print('Test Accuracy:', test_acc)"
      ],
      "execution_count": 15,
      "outputs": [
        {
          "output_type": "stream",
          "text": [
            "391/391 [==============================] - 86s 221ms/step - loss: 0.3208 - accuracy: 0.8582\n",
            "Test Loss: 0.3208281397819519\n",
            "Test Accuracy: 0.8581600189208984\n"
          ],
          "name": "stdout"
        }
      ]
    },
    {
      "cell_type": "code",
      "metadata": {
        "id": "RVZ860azIHA6"
      },
      "source": [
        "import matplotlib.pyplot as plt\n",
        "\n",
        "def plot_graphs(history, metric):\n",
        "  plt.plot(history.history[metric])\n",
        "  plt.plot(history.history['val_'+metric], '')\n",
        "  plt.xlabel(\"Epochs\")\n",
        "  plt.ylabel(metric)\n",
        "  plt.legend([metric, 'val_'+metric])"
      ],
      "execution_count": 16,
      "outputs": []
    },
    {
      "cell_type": "code",
      "metadata": {
        "colab": {
          "base_uri": "https://localhost:8080/",
          "height": 518
        },
        "id": "OUFlDIDQIXUA",
        "outputId": "a60c7641-1a80-4326-c8cc-bc37505e548d"
      },
      "source": [
        "plt.figure(figsize=(16, 8))\n",
        "plt.subplot(1, 2, 1)\n",
        "plot_graphs(history, 'accuracy')\n",
        "plt.ylim(None, 1)\n",
        "plt.subplot(1, 2, 2)\n",
        "plot_graphs(history, 'loss')\n",
        "plt.ylim(0, None)"
      ],
      "execution_count": 17,
      "outputs": [
        {
          "output_type": "execute_result",
          "data": {
            "text/plain": [
              "(0.0, 0.6722592696547508)"
            ]
          },
          "metadata": {
            "tags": []
          },
          "execution_count": 17
        },
        {
          "output_type": "display_data",
          "data": {
            "image/png": "[encoded data removed]",
            "text/plain": [
              "<Figure size 1152x576 with 2 Axes>"
            ]
          },
          "metadata": {
            "tags": [],
            "needs_background": "light"
          }
        }
      ]
    },
    {
      "cell_type": "markdown",
      "metadata": {
        "id": "H8HeigPMIbes"
      },
      "source": [
        "**@title Try the model for prediction(enter the review below to see the sentiment of the review)**"
      ]
    },
    {
      "cell_type": "code",
      "metadata": {
        "colab": {
          "base_uri": "https://localhost:8080/"
        },
        "id": "HD_w6vS2IdD9",
        "outputId": "9da89752-5d0b-40d5-db89-9fca36e9e051"
      },
      "source": [
        "review_text = \"The movie was  good with the animation and the graphics\" #@param {type:\"string\"}\n",
        "#sample_text_1 = ('its not a good movie compared to previous one''would go for another watch')\n",
        "predictions = model.predict(np.array([review_text]))\n",
        "if predictions[0][0] > 0:\n",
        "  print(\"The sentiment of the review is POSITIVE with polarity of : \",predictions[0][0])\n",
        "else:\n",
        "  print(\"The sentiment of the review is Negative with polarity of : \",predictions[0][0])\n",
        "\n",
        "#print(\"The sentiment of the review is : \",predictions[0][0])"
      ],
      "execution_count": 19,
      "outputs": [
        {
          "output_type": "stream",
          "text": [
            "The sentiment of the review is POSITIVE with polarity of :  0.6742042\n"
          ],
          "name": "stdout"
        }
      ]
    }
  ]
}